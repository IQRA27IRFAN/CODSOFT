{
 "cells": [
  {
   "cell_type": "code",
   "execution_count": 1,
   "id": "860aabf0",
   "metadata": {},
   "outputs": [],
   "source": [
    "import numpy as np\n",
    "from sklearn.metrics.pairwise import cosine_similarity"
   ]
  },
  {
   "cell_type": "code",
   "execution_count": 2,
   "id": "d81d26ca",
   "metadata": {},
   "outputs": [],
   "source": [
    "# Sample user-movie ratings matrix (user IDs as rows and movie IDs as columns)\n",
    "\n",
    "ratings_matrix = np.array([\n",
    "    [5, 4, 0, 0, 3],\n",
    "    [0, 0, 5, 0, 4],\n",
    "    [0, 0, 0, 3, 0],\n",
    "    [4, 5, 0, 0, 0],\n",
    "    [0, 0, 4, 0, 5]\n",
    "])"
   ]
  },
  {
   "cell_type": "code",
   "execution_count": 3,
   "id": "920d190a",
   "metadata": {},
   "outputs": [],
   "source": [
    "# Define a function to calculate cosine similarity between users\n",
    "def calculate_cosine_similarity(ratings_matrix):\n",
    "    similarity_matrix = cosine_similarity(ratings_matrix)\n",
    "    np.fill_diagonal(similarity_matrix, 0)  # Set self-similarity to 0\n",
    "    return similarity_matrix"
   ]
  },
  {
   "cell_type": "code",
   "execution_count": 9,
   "id": "4d4d60d1",
   "metadata": {},
   "outputs": [],
   "source": [
    "# Define a function to make movie recommendations for a user\n",
    "def recommend_movies(user_id, ratings_matrix, similarity_matrix, num_recommendations=5):\n",
    "    user_ratings = ratings_matrix[user_id]\n",
    "    similar_users = similarity_matrix[user_id]\n",
    "\n",
    "    # Find users most similar to the target user\n",
    "    most_similar_users = np.argsort(similar_users)[::-1]\n",
    "\n",
    "    # Initialize recommendation list\n",
    "    recommendations = []\n",
    "\n",
    "    for user in most_similar_users:\n",
    "        if user_ratings[user] == 0:  # User hasn't rated this movie\n",
    "            movie_ratings = ratings_matrix[user]\n",
    "            rated_indices = np.where(movie_ratings > 0)\n",
    "            movie_score = np.sum(movie_ratings[rated_indices] * similar_users[user])\n",
    "            recommendations.append((movie_score, user))\n",
    "\n",
    "        if len(recommendations) >= num_recommendations:\n",
    "            break\n",
    "    recommendations.sort(reverse=True)\n",
    "    recommended_movie_indices = [user for _, user in recommendations]\n",
    "    return recommended_movie_indices"
   ]
  },
  {
   "cell_type": "code",
   "execution_count": 10,
   "id": "f0324c81",
   "metadata": {},
   "outputs": [
    {
     "name": "stdout",
     "output_type": "stream",
     "text": [
      "Recommended movies for user 0: [3, 2]\n"
     ]
    }
   ],
   "source": [
    "# Test the recommendation system\n",
    "user_id = 0  # Replace with the user ID you want to recommend movies for\n",
    "similarity_matrix = calculate_cosine_similarity(ratings_matrix)\n",
    "recommended_movies = recommend_movies(user_id, ratings_matrix, similarity_matrix)\n",
    "\n",
    "print(f\"Recommended movies for user {user_id}: {recommended_movies}\")"
   ]
  },
  {
   "cell_type": "code",
   "execution_count": null,
   "id": "1f42bccc",
   "metadata": {},
   "outputs": [],
   "source": []
  }
 ],
 "metadata": {
  "kernelspec": {
   "display_name": "Python 3 (ipykernel)",
   "language": "python",
   "name": "python3"
  },
  "language_info": {
   "codemirror_mode": {
    "name": "ipython",
    "version": 3
   },
   "file_extension": ".py",
   "mimetype": "text/x-python",
   "name": "python",
   "nbconvert_exporter": "python",
   "pygments_lexer": "ipython3",
   "version": "3.9.13"
  }
 },
 "nbformat": 4,
 "nbformat_minor": 5
}
